{
 "cells": [
  {
   "cell_type": "code",
   "execution_count": 190,
   "metadata": {},
   "outputs": [],
   "source": [
    "from sklearn.datasets import load_files \n",
    "\n",
    "import numpy as np\n",
    "import pandas as pd\n",
    "import nltk\n",
    "import re\n",
    "import os\n",
    "import codecs\n",
    "from sklearn import feature_extraction\n",
    "import mpld3\n",
    "\n",
    "from __future__ import print_function\n",
    "\n",
    "from sklearn.feature_extraction.text import TfidfVectorizer\n",
    "from sklearn.metrics.pairwise import cosine_similarity\n",
    "from sklearn.externals import joblib\n",
    "from sklearn.cluster import KMeans"
   ]
  },
  {
   "cell_type": "code",
   "execution_count": 191,
   "metadata": {},
   "outputs": [],
   "source": [
    "# preparar funciones de procesamiento de texto\n",
    "\n",
    "def tokenize_and_stem(text):\n",
    "    tokens = [word for sent in nltk.sent_tokenize(text) for word in nltk.word_tokenize(sent)]\n",
    "    filtered_tokens = []\n",
    "    for token in tokens:\n",
    "        if re.search('[a-zA-Z]', token):\n",
    "            filtered_tokens.append(token)\n",
    "    stems = [stemmer.stem(t) for t in filtered_tokens]\n",
    "    return stems\n",
    "\n",
    "from nltk.stem.snowball import SnowballStemmer\n",
    "stemmer = SnowballStemmer(\"english\")"
   ]
  },
  {
   "cell_type": "code",
   "execution_count": 192,
   "metadata": {},
   "outputs": [],
   "source": [
    "dataset = load_files('data/txt_sentoken', shuffle=False)\n",
    "\n",
    "synopses = []\n",
    "N = len(dataset['data'])\n",
    "\n",
    "for i in range(N):\n",
    "    synopses.append(dataset['data'][i].decode('utf-8').strip())\n",
    "    "
   ]
  },
  {
   "cell_type": "code",
   "execution_count": 193,
   "metadata": {},
   "outputs": [],
   "source": [
    "#synopses[0]"
   ]
  },
  {
   "cell_type": "code",
   "execution_count": 194,
   "metadata": {},
   "outputs": [],
   "source": [
    "totalvocab_tokenized = []\n",
    "\n",
    "for i in synopses:\n",
    "    allwords_tokenized = tokenize_and_stem(i)\n",
    "    totalvocab_tokenized.extend(allwords_tokenized)\n",
    "    \n",
    "vocab_frame = pd.DataFrame({'words': totalvocab_tokenized}, index = totalvocab_tokenized)"
   ]
  },
  {
   "cell_type": "code",
   "execution_count": 195,
   "metadata": {},
   "outputs": [
    {
     "name": "stdout",
     "output_type": "stream",
     "text": [
      "(2000, 165)\n"
     ]
    }
   ],
   "source": [
    "tfidf_vectorizer = TfidfVectorizer(max_df=0.8, max_features=200000,\n",
    "                                 min_df=0.2, stop_words='english',\n",
    "                                 use_idf=True, tokenizer=tokenize_and_stem, ngram_range=(1,3))\n",
    "\n",
    "tfidf_matrix = tfidf_vectorizer.fit_transform(synopses) #fit the vectorizer to synopses\n",
    "print(tfidf_matrix.shape)\n",
    "\n",
    "terms = tfidf_vectorizer.get_feature_names()"
   ]
  },
  {
   "cell_type": "code",
   "execution_count": 196,
   "metadata": {},
   "outputs": [],
   "source": [
    "#print(terms)"
   ]
  },
  {
   "cell_type": "code",
   "execution_count": 197,
   "metadata": {},
   "outputs": [],
   "source": [
    "num_clusters = 5\n",
    "\n",
    "km = KMeans(n_clusters=num_clusters)\n",
    "km.fit(tfidf_matrix)\n",
    "\n",
    "clusters = km.labels_.tolist()"
   ]
  },
  {
   "cell_type": "code",
   "execution_count": 198,
   "metadata": {},
   "outputs": [
    {
     "name": "stdout",
     "output_type": "stream",
     "text": [
      "[0, 0, 0, 4, 2, 0, 0, 4, 3, 0, 3, 0, 1, 0, 0, 2, 0, 0, 4, 0, 0, 0, 1, 0, 2, 0, 3, 1, 0, 0, 2, 0, 1, 2, 3, 2, 2, 0, 0, 2, 3, 1, 3, 4, 4, 0, 1, 0, 1, 3, 4, 2, 3, 0, 4, 0, 0, 0, 0, 3, 0, 0, 2, 0, 1, 0, 1, 0, 4, 2, 0, 0, 0, 2, 0, 1, 2, 4, 2, 0, 2, 2, 3, 3, 2, 0, 2, 0, 2, 3, 3, 2, 0, 1, 3, 4, 4, 3, 0, 0, 0, 3, 0, 4, 3, 2, 2, 0, 2, 2, 0, 2, 1, 0, 0, 1, 1, 2, 2, 2, 3, 4, 4, 0, 0, 0, 4, 0, 3, 4, 0, 0, 2, 0, 0, 2, 2, 0, 0, 2, 0, 1, 4, 1, 1, 2, 3, 3, 0, 4, 1, 2, 0, 4, 1, 0, 4, 3, 1, 4, 2, 1, 2, 0, 4, 4, 0, 4, 4, 0, 0, 3, 0, 0, 1, 0, 1, 3, 3, 2, 0, 2, 1, 2, 0, 0, 2, 2, 3, 0, 3, 0, 0, 2, 2, 2, 4, 3, 3, 2, 2, 3, 0, 4, 0, 0, 3, 0, 2, 1, 1, 4, 0, 3, 1, 2, 0, 4, 4, 2, 2, 2, 1, 1, 0, 0, 4, 0, 0, 4, 0, 1, 2, 3, 0, 2, 4, 2, 0, 2, 2, 0, 0, 3, 0, 0, 4, 2, 1, 0, 3, 0, 0, 4, 4, 0, 0, 4, 4, 1, 1, 3, 3, 4, 2, 0, 1, 2, 1, 0, 4, 0, 4, 3, 0, 4, 0, 0, 2, 0, 0, 0, 0, 4, 0, 2, 0, 0, 0, 0, 4, 3, 0, 1, 3, 0, 1, 1, 4, 2, 0, 2, 0, 3, 0, 0, 0, 0, 2, 4, 0, 4, 4, 1, 1, 2, 3, 3, 0, 3, 1, 3, 0, 0, 3, 2, 0, 2, 3, 3, 0, 0, 0, 2, 4, 0, 4, 0, 0, 2, 3, 0, 4, 3, 2, 2, 4, 1, 0, 3, 0, 2, 0, 0, 4, 0, 0, 0, 0, 1, 0, 2, 2, 1, 1, 0, 0, 0, 2, 1, 4, 0, 4, 0, 0, 4, 3, 3, 4, 2, 0, 2, 2, 3, 4, 2, 0, 2, 2, 0, 3, 0, 2, 3, 0, 4, 2, 1, 0, 1, 2, 0, 0, 0, 2, 1, 4, 0, 2, 3, 0, 4, 4, 0, 4, 0, 2, 2, 2, 0, 4, 2, 0, 4, 0, 0, 1, 0, 0, 0, 4, 4, 2, 0, 3, 2, 1, 2, 0, 2, 3, 0, 0, 2, 1, 2, 2, 0, 3, 4, 1, 0, 0, 0, 2, 1, 0, 3, 2, 0, 2, 2, 2, 0, 2, 2, 2, 4, 4, 0, 1, 2, 3, 0, 1, 3, 3, 2, 0, 4, 0, 0, 4, 4, 0, 0, 0, 3, 0, 0, 1, 4, 4, 2, 0, 3, 2, 3, 4, 3, 1, 0, 2, 2, 4, 0, 4, 0, 4, 2, 4, 0, 2, 0, 1, 1, 0, 4, 0, 3, 4, 1, 2, 4, 0, 2, 0, 3, 3, 1, 1, 3, 4, 3, 0, 3, 2, 0, 4, 1, 2, 2, 3, 0, 4, 3, 4, 1, 2, 2, 2, 0, 0, 0, 3, 4, 0, 0, 3, 2, 4, 4, 0, 2, 2, 1, 0, 2, 2, 3, 1, 0, 3, 3, 4, 3, 0, 0, 3, 0, 3, 1, 0, 4, 0, 3, 0, 0, 2, 2, 0, 2, 2, 2, 3, 0, 4, 1, 4, 0, 2, 0, 3, 3, 2, 2, 3, 0, 3, 0, 4, 2, 0, 4, 0, 0, 2, 2, 0, 0, 2, 0, 2, 0, 2, 0, 3, 2, 2, 0, 0, 2, 4, 4, 3, 0, 2, 0, 4, 2, 0, 0, 4, 2, 3, 2, 3, 0, 2, 2, 3, 2, 3, 0, 0, 0, 4, 1, 4, 4, 0, 0, 4, 3, 4, 2, 1, 3, 0, 4, 0, 4, 4, 0, 4, 3, 0, 2, 2, 0, 1, 0, 2, 2, 2, 0, 2, 0, 0, 1, 0, 0, 3, 3, 3, 2, 3, 2, 4, 0, 3, 2, 0, 0, 0, 0, 0, 2, 3, 0, 2, 0, 2, 2, 1, 1, 4, 4, 4, 0, 2, 1, 4, 4, 1, 1, 1, 2, 1, 3, 0, 2, 0, 4, 2, 0, 0, 4, 0, 3, 2, 4, 2, 3, 3, 0, 2, 3, 4, 2, 4, 2, 0, 1, 4, 0, 1, 2, 1, 1, 0, 3, 0, 0, 3, 0, 1, 0, 0, 2, 2, 0, 0, 0, 2, 0, 0, 0, 4, 4, 1, 2, 1, 0, 2, 3, 0, 0, 0, 4, 2, 0, 3, 0, 0, 0, 0, 4, 4, 0, 0, 2, 2, 2, 2, 0, 2, 0, 4, 1, 0, 2, 0, 0, 3, 4, 0, 1, 3, 1, 0, 4, 0, 2, 1, 4, 4, 0, 0, 0, 4, 0, 2, 0, 2, 0, 1, 3, 3, 1, 3, 4, 4, 0, 0, 3, 4, 4, 0, 2, 1, 2, 4, 1, 0, 4, 0, 1, 0, 0, 0, 0, 2, 0, 3, 0, 0, 3, 4, 0, 4, 0, 2, 2, 0, 1, 3, 4, 1, 2, 3, 3, 4, 0, 1, 4, 4, 0, 0, 3, 2, 3, 0, 0, 0, 2, 4, 0, 0, 3, 4, 0, 0, 3, 2, 3, 0, 2, 2, 2, 2, 0, 0, 3, 0, 1, 0, 0, 2, 2, 1, 2, 1, 2, 2, 0, 0, 3, 0, 4, 0, 1, 0, 1, 1, 4, 0, 4, 2, 4, 2, 2, 0, 3, 1, 4, 2, 0, 0, 0, 0, 1, 3, 0, 4, 2, 0, 1, 0, 0, 3, 2, 0, 2, 2, 3, 4, 3, 2, 3, 3, 0, 3, 1, 2, 2, 4, 4, 2, 2, 1, 0, 4, 1, 3, 0, 4, 0, 2, 0, 0, 0, 0, 2, 0, 0, 0, 4, 2, 3, 0, 0, 2, 3, 0, 3, 2, 2, 3, 1, 4, 0, 3, 3, 2, 3, 2, 1, 2, 2, 1, 2, 0, 4, 3, 2, 3, 2, 2, 3, 2, 2, 2, 4, 4, 2, 3, 2, 3, 2, 2, 3, 0, 3, 1, 1, 3, 4, 2, 0, 0, 2, 3, 3, 0, 2, 3, 2, 3, 3, 3, 2, 2, 4, 2, 4, 3, 0, 0, 2, 2, 4, 1, 2, 0, 1, 3, 3, 2, 0, 1, 2, 0, 3, 2, 2, 3, 2, 3, 2, 0, 3, 3, 2, 3, 3, 3, 3, 0, 2, 4, 3, 1, 4, 4, 3, 3, 4, 3, 0, 0, 2, 2, 3, 3, 0, 3, 4, 0, 0, 3, 4, 3, 0, 3, 1, 2, 0, 3, 3, 2, 3, 4, 2, 2, 1, 4, 4, 0, 2, 3, 4, 3, 4, 4, 3, 0, 3, 2, 2, 4, 3, 0, 2, 3, 2, 3, 3, 4, 3, 3, 3, 2, 2, 3, 3, 3, 3, 3, 3, 4, 4, 3, 2, 0, 3, 4, 4, 3, 3, 0, 0, 3, 0, 1, 1, 4, 3, 3, 0, 3, 4, 2, 2, 4, 1, 4, 3, 0, 3, 3, 0, 2, 3, 4, 3, 2, 3, 0, 4, 2, 1, 0, 0, 1, 0, 3, 3, 2, 4, 3, 4, 2, 3, 2, 4, 2, 1, 3, 3, 0, 2, 3, 3, 0, 3, 2, 0, 4, 2, 0, 2, 1, 4, 2, 3, 3, 0, 2, 2, 3, 2, 3, 2, 4, 3, 2, 0, 3, 2, 2, 2, 0, 2, 3, 2, 1, 1, 4, 3, 2, 2, 0, 3, 0, 3, 3, 3, 3, 2, 0, 2, 1, 4, 0, 2, 2, 0, 4, 2, 3, 4, 4, 3, 3, 1, 2, 3, 3, 2, 2, 2, 2, 2, 1, 4, 2, 2, 2, 3, 0, 3, 2, 4, 0, 0, 3, 0, 2, 0, 2, 2, 1, 3, 2, 4, 1, 3, 0, 2, 0, 2, 3, 0, 1, 3, 2, 3, 3, 4, 0, 1, 1, 1, 3, 2, 2, 1, 1, 3, 3, 3, 1, 0, 0, 3, 1, 3, 3, 0, 3, 2, 2, 3, 2, 0, 0, 0, 3, 3, 0, 1, 0, 2, 2, 3, 4, 3, 2, 2, 4, 4, 3, 0, 2, 0, 3, 3, 2, 2, 4, 0, 2, 2, 4, 2, 2, 0, 2, 3, 4, 0, 1, 4, 0, 4, 0, 2, 4, 2, 2, 2, 2, 2, 0, 3, 3, 3, 3, 0, 3, 2, 2, 4, 2, 0, 3, 2, 3, 2, 2, 2, 2, 2, 1, 2, 3, 3, 0, 0, 3, 0, 0, 4, 0, 3, 0, 3, 3, 2, 3, 2, 1, 1, 1, 0, 2, 2, 3, 0, 0, 3, 0, 0, 1, 0, 2, 3, 3, 3, 3, 3, 2, 2, 3, 4, 3, 3, 1, 2, 0, 0, 3, 4, 3, 3, 1, 2, 2, 2, 2, 3, 1, 1, 2, 1, 0, 4, 0, 1, 2, 2, 3, 0, 4, 3, 0, 4, 3, 0, 3, 0, 3, 2, 4, 3, 4, 4, 0, 3, 2, 3, 2, 3, 2, 3, 3, 3, 3, 1, 2, 2, 4, 1, 2, 0, 4, 2, 4, 0, 0, 2, 3, 3, 3, 3, 1, 2, 2, 2, 0, 4, 2, 2, 0, 4, 3, 4, 3, 3, 3, 3, 2, 3, 1, 3, 3, 3, 3, 3, 0, 3, 3, 3, 4, 0, 3, 3, 3, 0, 0, 3, 3, 2, 3, 2, 2, 3, 2, 3, 4, 2, 3, 2, 4, 2, 4, 0, 2, 0, 3, 3, 0, 0, 3, 4, 2, 0, 2, 2, 0, 4, 0, 1, 4, 2, 2, 2, 2, 2, 2, 2, 4, 0, 3, 0, 2, 0, 0, 3, 3, 3, 2, 2, 3, 3, 0, 4, 0, 0, 3, 3, 3, 2, 2, 3, 1, 3, 2, 4, 2, 2, 2, 3, 1, 4, 1, 2, 3, 2, 3, 3, 4, 3, 0, 3, 4, 0, 4, 2, 4, 2, 3, 0, 3, 2, 3, 3, 2, 0, 0, 2, 2, 0, 3, 3, 0, 1, 3, 2, 2, 3, 3, 0, 3, 3, 3, 4, 0, 0, 0, 2, 2, 0, 0, 2, 1, 0, 3, 0, 2, 3, 0, 3, 1, 0, 0, 0, 4, 3, 2, 3, 3, 1, 3, 3, 2, 3, 2, 3, 3, 3, 3, 3, 2, 2, 2, 3, 2, 2, 1, 2, 4, 3, 3, 3, 2, 3, 4, 2, 0, 4, 4, 3, 3, 3, 3, 2, 1, 0, 2, 2, 2, 2, 3, 0, 3, 2, 0, 2, 3, 3, 0, 4, 2, 0, 3, 3, 3, 0, 2, 1, 3, 1, 1, 3, 3, 2, 4, 3, 0, 0, 2, 3, 2, 2, 3, 0, 0, 2, 2, 3, 2, 2, 4, 3, 3, 0, 2, 2, 3, 2, 2, 4, 4, 4, 4, 2, 2, 2, 2, 3, 2, 3, 2, 0, 2, 4, 4, 4, 2, 0, 2, 3, 2, 3, 3, 3, 2, 4, 4, 4, 0, 2, 0, 0, 0, 2, 2, 3, 2, 1, 3, 4, 2, 4, 3, 2, 4, 2, 2, 3, 3, 2, 2, 2, 3, 0, 3, 2, 3, 1, 3, 2, 3, 2, 4, 4, 0, 1, 3, 3, 0, 3, 4, 2, 1, 3, 0, 0, 2, 3, 3, 0, 4, 3, 3, 2, 2, 3, 3, 0, 2, 2, 3, 2, 3, 3, 0, 2, 0, 1, 4, 0, 4, 4, 3, 0, 3, 2, 4, 3, 0, 3, 3, 3, 2, 3, 1, 2, 2, 3, 0, 3, 3, 3, 0, 2, 2, 0, 0, 3, 0, 2, 3, 3, 2, 0, 3, 2, 2, 4, 2, 2, 3, 2, 3, 1, 3, 2, 2, 3, 2, 3, 1, 3, 3, 3, 2, 2, 2, 3, 4, 0, 0, 3, 0, 2, 1, 0, 4, 2, 2, 0, 0, 3, 0, 0, 2, 2, 3, 4, 2, 0, 0, 4, 3, 1, 2, 3]\n",
      "El cluster 0 tiene 551 elementos\n",
      "El cluster 1 tiene 184 elementos\n",
      "El cluster 2 tiene 516 elementos\n",
      "El cluster 3 tiene 469 elementos\n",
      "El cluster 4 tiene 280 elementos\n"
     ]
    }
   ],
   "source": [
    "print (clusters)\n",
    "\n",
    "# Recuento del número de elementos en cada cluster\n",
    "for i in range(num_clusters):\n",
    "    print ('El cluster %i tiene %i elementos' % (i, clusters.count(i)))"
   ]
  },
  {
   "cell_type": "code",
   "execution_count": 199,
   "metadata": {},
   "outputs": [],
   "source": [
    "vocab_frame = pd.DataFrame({'words': totalvocab_tokenized}, index = totalvocab_tokenized)\n",
    "\n",
    "terms = tfidf_vectorizer.get_feature_names()\n",
    "\n",
    "dist = 1 - cosine_similarity(tfidf_matrix)\n",
    "\n",
    "num_clusters = 10\n",
    "km = KMeans(n_clusters=num_clusters)\n",
    "km.fit(tfidf_matrix)\n",
    "clusters = km.labels_.tolist()\n",
    "\n",
    "joblib.dump(km,  'doc_cluster.pkl')\n",
    "\n",
    "km = joblib.load('doc_cluster.pkl')\n",
    "clusters = km.labels_.tolist()\n"
   ]
  },
  {
   "cell_type": "code",
   "execution_count": 200,
   "metadata": {},
   "outputs": [
    {
     "name": "stdout",
     "output_type": "stream",
     "text": [
      "Top terms per cluster:\n",
      "\n",
      "*** Cluster 0:\n",
      "\n",
      "WORDS ///  love /  charact /  year /  like /  end /  best / \n",
      "\n",
      "\n",
      "*** Cluster 1:\n",
      "\n",
      "WORDS ///  life /  world /  live /  charact /  man /  like / \n",
      "\n",
      "\n",
      "*** Cluster 2:\n",
      "\n",
      "WORDS ///  origin /  star /  effect /  time /  like /  charact / \n",
      "\n",
      "\n",
      "*** Cluster 3:\n",
      "\n",
      "WORDS ///  bad /  guy /  just /  like /  good /  plot / \n",
      "\n",
      "\n",
      "*** Cluster 4:\n",
      "\n",
      "WORDS ///  stori /  charact /  doe /  make /  like /  just / \n",
      "\n",
      "\n",
      "*** Cluster 5:\n",
      "\n",
      "WORDS ///  charact /  play /  perform /  scene /  role /  veri / \n",
      "\n",
      "\n",
      "*** Cluster 6:\n",
      "\n",
      "WORDS ///  like /  just /  doe /  thing /  make /  realli / \n",
      "\n",
      "\n",
      "*** Cluster 7:\n",
      "\n",
      "WORDS ///  john /  like /  stori /  make /  new /  time / \n",
      "\n",
      "\n",
      "*** Cluster 8:\n",
      "\n",
      "WORDS ///  action /  scene /  like /  charact /  plot /  make / \n",
      "\n",
      "\n",
      "*** Cluster 9:\n",
      "\n",
      "WORDS ///  comedi /  funni /  laugh /  like /  just /  make / \n",
      "\n",
      "\n"
     ]
    }
   ],
   "source": [
    "print(\"Top terms per cluster:\")\n",
    "print()\n",
    "#sort cluster centers by proximity to centroid\n",
    "order_centroids = km.cluster_centers_.argsort()[:, ::-1]     \n",
    "        \n",
    "for i in range(num_clusters):\n",
    "    print(\"*** Cluster %d:\" % i, end='\\n\\n')\n",
    "    \n",
    "    print(\"WORDS /// \", end='')\n",
    "    \n",
    "    for ind in order_centroids[i, :6]: #replace 6 with n words per cluster\n",
    "        print(' %s' % vocab_frame.ix[terms[ind].split(' ')].values.tolist()[0][0].encode('utf-8', 'ignore'), end=' / ')\n",
    "    print('\\n\\n')\n"
   ]
  },
  {
   "cell_type": "code",
   "execution_count": null,
   "metadata": {},
   "outputs": [],
   "source": []
  },
  {
   "cell_type": "code",
   "execution_count": null,
   "metadata": {},
   "outputs": [],
   "source": []
  }
 ],
 "metadata": {
  "kernelspec": {
   "display_name": "Python 2",
   "language": "python",
   "name": "python2"
  },
  "language_info": {
   "codemirror_mode": {
    "name": "ipython",
    "version": 2
   },
   "file_extension": ".py",
   "mimetype": "text/x-python",
   "name": "python",
   "nbconvert_exporter": "python",
   "pygments_lexer": "ipython2",
   "version": "2.7.6"
  }
 },
 "nbformat": 4,
 "nbformat_minor": 2
}
